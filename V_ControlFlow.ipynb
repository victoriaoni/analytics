{
  "nbformat": 4,
  "nbformat_minor": 0,
  "metadata": {
    "colab": {
      "provenance": [],
      "include_colab_link": true
    },
    "kernelspec": {
      "name": "python3",
      "display_name": "Python 3"
    },
    "language_info": {
      "name": "python"
    }
  },
  "cells": [
    {
      "cell_type": "markdown",
      "metadata": {
        "id": "view-in-github",
        "colab_type": "text"
      },
      "source": [
        "<a href=\"https://colab.research.google.com/github/victoriaoni/analytics/blob/main/V_ControlFlow.ipynb\" target=\"_parent\"><img src=\"https://colab.research.google.com/assets/colab-badge.svg\" alt=\"Open In Colab\"/></a>"
      ]
    },
    {
      "cell_type": "markdown",
      "source": [
        "if, else, and elif statements"
      ],
      "metadata": {
        "id": "c_EyMKN9Yf8R"
      }
    },
    {
      "cell_type": "code",
      "execution_count": null,
      "metadata": {
        "id": "ZPSJbUvTXyu-"
      },
      "outputs": [],
      "source": [
        "# if it is rainy, wear a raincoat\n",
        "# but if it is sunny, wear a light cloth\n",
        "# but if its snowy, wear a jacket\n",
        "# otherwise, wear whatever suits you"
      ]
    },
    {
      "cell_type": "code",
      "source": [
        "weather = input('What is the weather today? ').lower()\n",
        "has_raincoat = True\n",
        "\n",
        "if weather == 'raining':\n",
        "  print('wear a raincoat')\n",
        "\n",
        "elif weather == 'sunny':\n",
        "  print('wear a light cloth')\n",
        "\n",
        "elif weather == 'snowy':\n",
        "  print('wear a light cloth')\n",
        "\n",
        "else:\n",
        "  print('do what you like')\n",
        "\n",
        "print('All good')\n",
        "\n",
        "# if <condition>: <-- if statement\n",
        "  # do something <-- if block (body of the if statement)"
      ],
      "metadata": {
        "colab": {
          "base_uri": "https://localhost:8080/"
        },
        "id": "H_PDz__AY_pU",
        "outputId": "85148e1e-6ba1-43ff-8fd0-510e3a85a9d3"
      },
      "execution_count": null,
      "outputs": [
        {
          "output_type": "stream",
          "name": "stdout",
          "text": [
            "What is the weather today? Victoria\n",
            "do what you like\n",
            "All good\n"
          ]
        }
      ]
    },
    {
      "cell_type": "code",
      "source": [
        "mylist = [1]\n",
        "bool(mylist)"
      ],
      "metadata": {
        "colab": {
          "base_uri": "https://localhost:8080/"
        },
        "id": "vUjsKZm0ZStW",
        "outputId": "f518cfda-4670-4886-a5fa-a1ed6985e240"
      },
      "execution_count": null,
      "outputs": [
        {
          "output_type": "execute_result",
          "data": {
            "text/plain": [
              "True"
            ]
          },
          "metadata": {},
          "execution_count": 9
        }
      ]
    },
    {
      "cell_type": "code",
      "source": [
        "# ==, >, <, >=, <=, !=, and, or, not, not in"
      ],
      "metadata": {
        "colab": {
          "base_uri": "https://localhost:8080/"
        },
        "id": "bV8vmaJ6bi_s",
        "outputId": "cfde9237-d9fd-43f6-c405-de54cd68cb75"
      },
      "execution_count": null,
      "outputs": [
        {
          "output_type": "execute_result",
          "data": {
            "text/plain": [
              "True"
            ]
          },
          "metadata": {},
          "execution_count": 14
        }
      ]
    },
    {
      "cell_type": "code",
      "source": [
        "# ask user for their weight, store in a variable called 'weight'\n",
        "weight = float(input(\"What is your weight? \"))\n"
      ],
      "metadata": {
        "id": "Q4rlk9pgeKml",
        "colab": {
          "base_uri": "https://localhost:8080/"
        },
        "outputId": "11448d6f-dbb1-4e7a-fb88-c05722af53a4"
      },
      "execution_count": null,
      "outputs": [
        {
          "name": "stdout",
          "output_type": "stream",
          "text": [
            "What is your weight? 20\n"
          ]
        }
      ]
    },
    {
      "cell_type": "code",
      "source": [
        "# ask for their height, store in a variable called 'height'\n",
        "height = float(input(\"What is your height? \"))"
      ],
      "metadata": {
        "id": "h0xr-IpzgYM7",
        "colab": {
          "base_uri": "https://localhost:8080/"
        },
        "outputId": "526433e9-92af-4787-b4fd-f9771bba61ca"
      },
      "execution_count": null,
      "outputs": [
        {
          "name": "stdout",
          "output_type": "stream",
          "text": [
            "What is your height? 2\n"
          ]
        }
      ]
    },
    {
      "cell_type": "code",
      "source": [
        "# calculate their bmi = weight/height*height\n",
        "bmi = weight/height*height\n",
        "  \n"
      ],
      "metadata": {
        "id": "FVM8oPm8ggHM"
      },
      "execution_count": null,
      "outputs": []
    },
    {
      "cell_type": "code",
      "source": [
        "\n",
        "# check if the bmi is less than 18.5, if so, tell them that they are under weight\n",
        "if bmi < 18.5:\n",
        "  print(f\"Your bmi is {bmi}. You're anorexic!\")\n",
        "elif bmi < 24.5:\n",
        "  print(f\"Your bmi is {bmi}. You're just fine!\")\n",
        "elif bmi < 29.5:\n",
        "  print(f\"Your bmi is {bmi}. You're fat!\")\n",
        "else: \n",
        "  print(f\"Your bmi is {bmi}. See your GP for bariatric surgery, fat cow!\")"
      ],
      "metadata": {
        "id": "meecGLY8glIr",
        "colab": {
          "base_uri": "https://localhost:8080/"
        },
        "outputId": "de4be72c-24c5-4bd1-94aa-c5d9681ffc6d"
      },
      "execution_count": null,
      "outputs": [
        {
          "output_type": "stream",
          "name": "stdout",
          "text": [
            "Your bmi is 20.0. You're just fine!\n"
          ]
        }
      ]
    },
    {
      "cell_type": "code",
      "source": [
        "# but if their bmi is less that 24.5, tell them they are normal weight\n"
      ],
      "metadata": {
        "id": "GYMK2XcXgqmA"
      },
      "execution_count": null,
      "outputs": []
    },
    {
      "cell_type": "code",
      "source": [
        "# but if their bmi is greater than 24.5, tell them they are over weight"
      ],
      "metadata": {
        "id": "iajgiJS0grl3"
      },
      "execution_count": null,
      "outputs": []
    },
    {
      "cell_type": "code",
      "source": [
        "# otherwise, tell them to go see their doctor."
      ],
      "metadata": {
        "id": "aRxQ06EAg4sL"
      },
      "execution_count": null,
      "outputs": []
    },
    {
      "cell_type": "code",
      "source": [],
      "metadata": {
        "id": "NIzQ_uArg-05"
      },
      "execution_count": null,
      "outputs": []
    }
  ]
}