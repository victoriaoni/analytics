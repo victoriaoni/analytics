{
  "nbformat": 4,
  "nbformat_minor": 0,
  "metadata": {
    "colab": {
      "provenance": [],
      "include_colab_link": true
    },
    "kernelspec": {
      "name": "python3",
      "display_name": "Python 3"
    },
    "language_info": {
      "name": "python"
    }
  },
  "cells": [
    {
      "cell_type": "markdown",
      "metadata": {
        "id": "view-in-github",
        "colab_type": "text"
      },
      "source": [
        "<a href=\"https://colab.research.google.com/github/victoriaoni/analytics/blob/main/function_3.ipynb\" target=\"_parent\"><img src=\"https://colab.research.google.com/assets/colab-badge.svg\" alt=\"Open In Colab\"/></a>"
      ]
    },
    {
      "cell_type": "markdown",
      "source": [],
      "metadata": {
        "id": "bxpsyazr-u-5"
      }
    },
    {
      "cell_type": "code",
      "source": [],
      "metadata": {
        "id": "VPjaDBoZ-vXb"
      },
      "execution_count": null,
      "outputs": []
    },
    {
      "cell_type": "markdown",
      "source": [
        "- procedural paradigm\n",
        "- functional paradigm\n",
        "- Object oriented programming paradigm"
      ],
      "metadata": {
        "id": "_ZE6Y1zktGjt"
      }
    },
    {
      "cell_type": "code",
      "source": [
        "name = 'sam'\n",
        "age = 25\n",
        "gender = 'Male'\n",
        "print(name)\n",
        "print(age)\n",
        "print(gender)\n",
        "\n",
        "name = 'Vic'\n",
        "age = 30\n",
        "gender = 'Female'\n",
        "print(name)\n",
        "print(age)\n",
        "print(gender)\n",
        "\n",
        "name = 'Bob'\n",
        "age = 15\n",
        "gender = 'Male'\n",
        "print(name)\n",
        "print(age)\n",
        "print(gender)\n"
      ],
      "metadata": {
        "colab": {
          "base_uri": "https://localhost:8080/"
        },
        "id": "v-u_vDtAtPfs",
        "outputId": "4c4f8b27-e57d-48ff-f00a-fa0336dd26b4"
      },
      "execution_count": null,
      "outputs": [
        {
          "output_type": "stream",
          "name": "stdout",
          "text": [
            "sam\n",
            "25\n",
            "Male\n",
            "Vic\n",
            "30\n",
            "Female\n",
            "Bob\n",
            "15\n",
            "Male\n"
          ]
        }
      ]
    },
    {
      "cell_type": "code",
      "source": [
        "num1 = 5\n",
        "num2 = 10\n",
        "sumnum = num1 + num2\n",
        "print(sumnum)\n",
        "\n",
        "num3 = 6\n",
        "num4 = 6\n",
        "sumnum = num3 + num4\n",
        "print(sumnum)"
      ],
      "metadata": {
        "colab": {
          "base_uri": "https://localhost:8080/"
        },
        "id": "wK0L--ZGtz2y",
        "outputId": "d5bcc714-870f-4cd3-fd66-b005192a62de"
      },
      "execution_count": null,
      "outputs": [
        {
          "output_type": "stream",
          "name": "stdout",
          "text": [
            "15\n",
            "12\n"
          ]
        }
      ]
    },
    {
      "cell_type": "code",
      "source": [
        "juice = 'Orange juice'\n",
        "print(juice)\n"
      ],
      "metadata": {
        "id": "YxLcVxUQydYV"
      },
      "execution_count": null,
      "outputs": []
    },
    {
      "cell_type": "code",
      "source": [
        "# def sumnum(): # ---> parameters\n",
        "#   pass\n",
        "\n",
        "def fruit_blender(fruit):\n",
        "  print(fruit)\n",
        "\n",
        "lemon = fruit_blender('Lemon')\n",
        "\n",
        "lemonade =  lemon + 'ade'\n",
        "lemonade\n"
      ],
      "metadata": {
        "colab": {
          "base_uri": "https://localhost:8080/",
          "height": 235
        },
        "id": "zbeUBMHbucWL",
        "outputId": "7d653e88-4e9e-4ce8-e22b-a9eb5713fcfa"
      },
      "execution_count": null,
      "outputs": [
        {
          "output_type": "stream",
          "name": "stdout",
          "text": [
            "Lemon\n"
          ]
        },
        {
          "output_type": "error",
          "ename": "TypeError",
          "evalue": "ignored",
          "traceback": [
            "\u001b[0;31m---------------------------------------------------------------------------\u001b[0m",
            "\u001b[0;31mTypeError\u001b[0m                                 Traceback (most recent call last)",
            "\u001b[0;32m<ipython-input-12-96a88cb19eb6>\u001b[0m in \u001b[0;36m<module>\u001b[0;34m\u001b[0m\n\u001b[1;32m      7\u001b[0m \u001b[0mlemon\u001b[0m \u001b[0;34m=\u001b[0m \u001b[0mfruit_blender\u001b[0m\u001b[0;34m(\u001b[0m\u001b[0;34m'Lemon'\u001b[0m\u001b[0;34m)\u001b[0m\u001b[0;34m\u001b[0m\u001b[0;34m\u001b[0m\u001b[0m\n\u001b[1;32m      8\u001b[0m \u001b[0;34m\u001b[0m\u001b[0m\n\u001b[0;32m----> 9\u001b[0;31m \u001b[0mlemonade\u001b[0m \u001b[0;34m=\u001b[0m  \u001b[0mlemon\u001b[0m \u001b[0;34m+\u001b[0m \u001b[0;34m'ade'\u001b[0m\u001b[0;34m\u001b[0m\u001b[0;34m\u001b[0m\u001b[0m\n\u001b[0m\u001b[1;32m     10\u001b[0m \u001b[0mlemonade\u001b[0m\u001b[0;34m\u001b[0m\u001b[0;34m\u001b[0m\u001b[0m\n",
            "\u001b[0;31mTypeError\u001b[0m: unsupported operand type(s) for +: 'NoneType' and 'str'"
          ]
        }
      ]
    },
    {
      "cell_type": "code",
      "source": [
        "def sumnum(x, y):\n",
        "  sum = x + y\n",
        "  return sum\n",
        "\n",
        "result = sumnum(5, 10)\n",
        "result / 3\n",
        "# result = 15\n",
        "# result / 3 --> 5"
      ],
      "metadata": {
        "colab": {
          "base_uri": "https://localhost:8080/"
        },
        "id": "koiGQyJsxRVz",
        "outputId": "9413e6c9-e604-4a48-fb4f-d4288a36ab39"
      },
      "execution_count": null,
      "outputs": [
        {
          "output_type": "execute_result",
          "data": {
            "text/plain": [
              "5.0"
            ]
          },
          "metadata": {},
          "execution_count": 2
        }
      ]
    },
    {
      "cell_type": "code",
      "source": [
        "import typing\n",
        "def get_first_letter(word: str):\n",
        "  '''This function prints the first letter of the word.'''\n",
        "  #first_letter = word[0]\n",
        "  #last_letter = word[-1]\n",
        "  for i in word:\n",
        "    print(i)\n",
        "  #print(last_letter)\n",
        "\n",
        "get_first_letter()\n",
        "#print()    \n",
        "  \n"
      ],
      "metadata": {
        "id": "5XPFC_6o07Ix",
        "colab": {
          "base_uri": "https://localhost:8080/"
        },
        "outputId": "080d7354-cbbc-4eab-f71b-219fb7295ccb"
      },
      "execution_count": null,
      "outputs": [
        {
          "output_type": "execute_result",
          "data": {
            "text/plain": [
              "<function __main__.get_first_letter(word)>"
            ]
          },
          "metadata": {},
          "execution_count": 11
        }
      ]
    },
    {
      "cell_type": "code",
      "source": [
        "word = 'victoria'\n",
        "word[0]\n"
      ],
      "metadata": {
        "colab": {
          "base_uri": "https://localhost:8080/",
          "height": 35
        },
        "id": "8DWX-V2E4VF1",
        "outputId": "764230b7-820b-4446-b4bf-4519401f9507"
      },
      "execution_count": null,
      "outputs": [
        {
          "output_type": "execute_result",
          "data": {
            "text/plain": [
              "'v'"
            ],
            "application/vnd.google.colaboratory.intrinsic+json": {
              "type": "string"
            }
          },
          "metadata": {},
          "execution_count": 3
        }
      ]
    },
    {
      "cell_type": "code",
      "source": [
        "def greet():\n",
        "  return 'hello'\n",
        "\n",
        "greet()"
      ],
      "metadata": {
        "id": "_6fMVdXE3VrV",
        "outputId": "e8dd8413-1c4d-48b6-d63e-72114f1e1af3",
        "colab": {
          "base_uri": "https://localhost:8080/",
          "height": 35
        }
      },
      "execution_count": null,
      "outputs": [
        {
          "output_type": "execute_result",
          "data": {
            "text/plain": [
              "'hello'"
            ],
            "application/vnd.google.colaboratory.intrinsic+json": {
              "type": "string"
            }
          },
          "metadata": {},
          "execution_count": 1
        }
      ]
    },
    {
      "cell_type": "code",
      "source": [
        "def calc_salary(salary, hours=60, bonus=1.5):  # positional parameters, default parameters\n",
        "  ''' This function returns a new salary based on bonus accrued per hours of work '''\n",
        "  if hours > 60:\n",
        "    new_salary = salary * bonus\n",
        "    return new_salary\n",
        "  elif hours < 60:\n",
        "    new_salary = salary * 1.2\n",
        "    return new_salary\n",
        "\n",
        "\n",
        "calc_salary(2000, hours=60, bonus=1.2)\n",
        "help(calc_salary)"
      ],
      "metadata": {
        "id": "sFWXFVre3aIN",
        "outputId": "5fbee82f-f768-4564-cf4b-f6443c21cedf",
        "colab": {
          "base_uri": "https://localhost:8080/"
        }
      },
      "execution_count": null,
      "outputs": [
        {
          "output_type": "stream",
          "name": "stdout",
          "text": [
            "Help on function calc_salary in module __main__:\n",
            "\n",
            "calc_salary(salary, hours=60, bonus=1.5)\n",
            "    This function returns a new salary based on bonus accrued per hours of work\n",
            "\n"
          ]
        }
      ]
    },
    {
      "cell_type": "code",
      "source": [
        "calc_salary.__doc__"
      ],
      "metadata": {
        "id": "vjVJ2QHG4nL6",
        "outputId": "8c9f1e3b-fd2a-4e93-badc-1217a2838017",
        "colab": {
          "base_uri": "https://localhost:8080/",
          "height": 35
        }
      },
      "execution_count": null,
      "outputs": [
        {
          "output_type": "execute_result",
          "data": {
            "text/plain": [
              "' This function returns a new salary based on bonus accrued per hours of work '"
            ],
            "application/vnd.google.colaboratory.intrinsic+json": {
              "type": "string"
            }
          },
          "metadata": {},
          "execution_count": 14
        }
      ]
    },
    {
      "cell_type": "code",
      "source": [
        "def reminder(time = 6.45):\n",
        "  if time == 6.45:\n",
        "    return \"It's about that time. Get ready!\"\n",
        "  elif time < 6.45:\n",
        "    return \"It's not time.\"\n",
        "  \n",
        "reminder(6.50)\n",
        "  "
      ],
      "metadata": {
        "id": "s8vPCdfX8qU0"
      },
      "execution_count": null,
      "outputs": []
    },
    {
      "cell_type": "code",
      "source": [
        "def go_to_tesco(time = 7):\n",
        "  pass"
      ],
      "metadata": {
        "id": "z_dxoFevAQwB"
      },
      "execution_count": null,
      "outputs": []
    },
    {
      "cell_type": "code",
      "source": [
        "from datetime import date\n",
        "date.today()"
      ],
      "metadata": {
        "colab": {
          "base_uri": "https://localhost:8080/"
        },
        "id": "LgSu1HspAfQ7",
        "outputId": "fb7410a8-7f3e-435d-8374-9d119fb2d6d5"
      },
      "execution_count": null,
      "outputs": [
        {
          "output_type": "execute_result",
          "data": {
            "text/plain": [
              "datetime.date(2022, 12, 2)"
            ]
          },
          "metadata": {},
          "execution_count": 1
        }
      ]
    },
    {
      "cell_type": "code",
      "source": [
        "def high_num(num1, num2):\n",
        "  if num1 > num2:\n",
        "    return num1\n",
        "  else:\n",
        "    return num2\n",
        "\n",
        "high_num(15,7)    \n"
      ],
      "metadata": {
        "colab": {
          "base_uri": "https://localhost:8080/"
        },
        "id": "0NXBiOPmDoPP",
        "outputId": "279f2b08-9825-4a91-8df6-b940920a75d9"
      },
      "execution_count": null,
      "outputs": [
        {
          "output_type": "execute_result",
          "data": {
            "text/plain": [
              "15"
            ]
          },
          "metadata": {},
          "execution_count": 7
        }
      ]
    },
    {
      "cell_type": "code",
      "source": [
        "def calc_price(qty):\n",
        "  items = {\"Sugar\": 20, \"Coffee\": 50, \"Bread\": 70}\n",
        "  prices = []\n",
        "\n",
        "  for value in items.values():\n",
        "    prices.append(value)\n",
        "    \n",
        "  return prices\n",
        "  \n",
        "calc_price(2)\n",
        "\n"
      ],
      "metadata": {
        "colab": {
          "base_uri": "https://localhost:8080/"
        },
        "id": "kdS-jLZzEfIn",
        "outputId": "fe3d9852-b6e4-41cd-85c4-caf527b96293"
      },
      "execution_count": null,
      "outputs": [
        {
          "output_type": "execute_result",
          "data": {
            "text/plain": [
              "[20, 50, 70]"
            ]
          },
          "metadata": {},
          "execution_count": 15
        }
      ]
    },
    {
      "cell_type": "code",
      "source": [
        "items = {\"Sugar\": 20, \"Coffee\": 50, \"Bread\": 70}\n",
        "items.items()"
      ],
      "metadata": {
        "colab": {
          "base_uri": "https://localhost:8080/"
        },
        "id": "q1dFYH-vGLhI",
        "outputId": "23c6a83f-83d6-4d5d-8bd5-c8ab0109df32"
      },
      "execution_count": null,
      "outputs": [
        {
          "output_type": "execute_result",
          "data": {
            "text/plain": [
              "dict_items([('Sugar', 20), ('Coffee', 50), ('Bread', 70)])"
            ]
          },
          "metadata": {},
          "execution_count": 16
        }
      ]
    },
    {
      "cell_type": "code",
      "source": [
        "mylist = [20, 50, 70]\n",
        "sum(mylist)\n",
        "\n",
        "# for each item in the list\n",
        "# multiply each item by qty\n",
        "for i in mylist:\n",
        "  amount_spent = 2 * items\n",
        "return amount_spent "
      ],
      "metadata": {
        "colab": {
          "base_uri": "https://localhost:8080/",
          "height": 218
        },
        "id": "xy4__5w4Hp9W",
        "outputId": "50ce4666-05c9-46e4-cdfe-6b245b619c37"
      },
      "execution_count": null,
      "outputs": [
        {
          "output_type": "error",
          "ename": "TypeError",
          "evalue": "ignored",
          "traceback": [
            "\u001b[0;31m---------------------------------------------------------------------------\u001b[0m",
            "\u001b[0;31mTypeError\u001b[0m                                 Traceback (most recent call last)",
            "\u001b[0;32m<ipython-input-19-d129607dc6cb>\u001b[0m in \u001b[0;36m<module>\u001b[0;34m\u001b[0m\n\u001b[1;32m      5\u001b[0m \u001b[0;31m# multiply each item by qty\u001b[0m\u001b[0;34m\u001b[0m\u001b[0;34m\u001b[0m\u001b[0;34m\u001b[0m\u001b[0m\n\u001b[1;32m      6\u001b[0m \u001b[0;32mfor\u001b[0m \u001b[0mi\u001b[0m \u001b[0;32min\u001b[0m \u001b[0mmylist\u001b[0m\u001b[0;34m:\u001b[0m\u001b[0;34m\u001b[0m\u001b[0;34m\u001b[0m\u001b[0m\n\u001b[0;32m----> 7\u001b[0;31m   \u001b[0mamount_spent\u001b[0m \u001b[0;34m=\u001b[0m \u001b[0;36m2\u001b[0m \u001b[0;34m*\u001b[0m \u001b[0mitems\u001b[0m\u001b[0;34m\u001b[0m\u001b[0;34m\u001b[0m\u001b[0m\n\u001b[0m\u001b[1;32m      8\u001b[0m \u001b[0;32mreturn\u001b[0m \u001b[0mamount_spent\u001b[0m\u001b[0;34m\u001b[0m\u001b[0;34m\u001b[0m\u001b[0m\n",
            "\u001b[0;31mTypeError\u001b[0m: unsupported operand type(s) for *: 'int' and 'dict'"
          ]
        }
      ]
    },
    {
      "cell_type": "code",
      "source": [
        "from types import new_class\n",
        "mylist = [20, 50, 70]\n",
        "new_list = []\n",
        "for i in mylist:\n",
        "  price = 2 * i\n",
        "  new_list.append(price)\n",
        "\n",
        "total_cost = sum(new_list)\n",
        "\n",
        "print(total_cost)  \n",
        "  #print(price)\n",
        "print(mylist)\n",
        "print(new_list)\n"
      ],
      "metadata": {
        "id": "ABhb9XUuJTRl",
        "outputId": "49230321-291a-4eea-a9a6-ac9d6fc69f88",
        "colab": {
          "base_uri": "https://localhost:8080/"
        }
      },
      "execution_count": 5,
      "outputs": [
        {
          "output_type": "stream",
          "name": "stdout",
          "text": [
            "280\n",
            "[20, 50, 70]\n",
            "[40, 100, 140]\n"
          ]
        }
      ]
    },
    {
      "cell_type": "code",
      "source": [
        "def get_total(mylist, qty):\n",
        "  new_list = []\n",
        "  for i in mylist:\n",
        "    price = qty * i\n",
        "    new_list.append(price)\n",
        "  return sum(new_list)\n",
        "\n",
        "get_total([20,50,70], 2)\n",
        "\n",
        "\n",
        "\n",
        "\n"
      ],
      "metadata": {
        "id": "aFPjW9v8Jlb-",
        "outputId": "7b035469-9053-49ee-e308-c0ee554b35ac",
        "colab": {
          "base_uri": "https://localhost:8080/"
        }
      },
      "execution_count": 10,
      "outputs": [
        {
          "output_type": "execute_result",
          "data": {
            "text/plain": [
              "<function __main__.get_total(mylist, qty)>"
            ]
          },
          "metadata": {},
          "execution_count": 10
        }
      ]
    },
    {
      "cell_type": "code",
      "source": [
        "def multiply(x,y):\n",
        "  return x*y\n",
        "\n",
        "multiply(2,7)"
      ],
      "metadata": {
        "id": "LDZz86PhOHVp",
        "outputId": "72efb7c6-fb55-4ce3-a592-537e27ea3988",
        "colab": {
          "base_uri": "https://localhost:8080/"
        }
      },
      "execution_count": 13,
      "outputs": [
        {
          "output_type": "execute_result",
          "data": {
            "text/plain": [
              "14"
            ]
          },
          "metadata": {},
          "execution_count": 13
        }
      ]
    },
    {
      "cell_type": "code",
      "source": [
        "\n",
        "def check_even():\n",
        "  start = True\n",
        "  while not start:\n",
        "    num = int(input(\"Type a number: \"))\n",
        "    if (num) % 2 == 0:\n",
        "      return f\"{num} is even.\"\n",
        "    elif num == 0:\n",
        "      break\n",
        "    else:\n",
        "      return f\"{num} is odd.\"\n",
        "\n",
        "check_even()\n",
        "  "
      ],
      "metadata": {
        "id": "yZhsRYbOSbX3"
      },
      "execution_count": 22,
      "outputs": []
    },
    {
      "cell_type": "code",
      "source": [
        "def check_even():\n",
        "  #start = True\n",
        "  while True:\n",
        "    num = int(input(\"Type a number: \"))\n",
        "    if num == 0:\n",
        "      break\n",
        "    elif (num) % 2 == 0:\n",
        "      print(f\"{num} is even.\")\n",
        "    else:\n",
        "      print(f\"{num} is odd.\")\n",
        "\n",
        "check_even()"
      ],
      "metadata": {
        "id": "2HXRiU-EUcbM",
        "outputId": "fa330bff-d35d-4985-f62c-72205bb13baf",
        "colab": {
          "base_uri": "https://localhost:8080/"
        }
      },
      "execution_count": 26,
      "outputs": [
        {
          "name": "stdout",
          "output_type": "stream",
          "text": [
            "Type a number: 3\n",
            "3 is odd.\n",
            "Type a number: 2\n",
            "2 is even.\n",
            "Type a number: 0\n"
          ]
        }
      ]
    },
    {
      "cell_type": "code",
      "source": [],
      "metadata": {
        "id": "leYCZgsDX6MZ"
      },
      "execution_count": null,
      "outputs": []
    }
  ]
}