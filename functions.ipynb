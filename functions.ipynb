{
  "nbformat": 4,
  "nbformat_minor": 0,
  "metadata": {
    "colab": {
      "provenance": [],
      "include_colab_link": true
    },
    "kernelspec": {
      "name": "python3",
      "display_name": "Python 3"
    },
    "language_info": {
      "name": "python"
    }
  },
  "cells": [
    {
      "cell_type": "markdown",
      "metadata": {
        "id": "view-in-github",
        "colab_type": "text"
      },
      "source": [
        "<a href=\"https://colab.research.google.com/github/victoriaoni/analytics/blob/main/functions.ipynb\" target=\"_parent\"><img src=\"https://colab.research.google.com/assets/colab-badge.svg\" alt=\"Open In Colab\"/></a>"
      ]
    },
    {
      "cell_type": "markdown",
      "source": [
        "- procedural paradigm\n",
        "- functional paradigm\n",
        "- Object oriented programming paradigm"
      ],
      "metadata": {
        "id": "_ZE6Y1zktGjt"
      }
    },
    {
      "cell_type": "code",
      "source": [
        "name = 'sam'\n",
        "age = 25\n",
        "gender = 'Male'\n",
        "print(name)\n",
        "print(age)\n",
        "print(gender)\n",
        "\n",
        "name = 'Vic'\n",
        "age = 30\n",
        "gender = 'Female'\n",
        "print(name)\n",
        "print(age)\n",
        "print(gender)\n",
        "\n",
        "name = 'Bob'\n",
        "age = 15\n",
        "gender = 'Male'\n",
        "print(name)\n",
        "print(age)\n",
        "print(gender)\n"
      ],
      "metadata": {
        "colab": {
          "base_uri": "https://localhost:8080/"
        },
        "id": "v-u_vDtAtPfs",
        "outputId": "4c4f8b27-e57d-48ff-f00a-fa0336dd26b4"
      },
      "execution_count": null,
      "outputs": [
        {
          "output_type": "stream",
          "name": "stdout",
          "text": [
            "sam\n",
            "25\n",
            "Male\n",
            "Vic\n",
            "30\n",
            "Female\n",
            "Bob\n",
            "15\n",
            "Male\n"
          ]
        }
      ]
    },
    {
      "cell_type": "code",
      "source": [
        "num1 = 5\n",
        "num2 = 10\n",
        "sumnum = num1 + num2\n",
        "print(sumnum)\n",
        "\n",
        "num3 = 6\n",
        "num4 = 6\n",
        "sumnum = num3 + num4\n",
        "print(sumnum)"
      ],
      "metadata": {
        "colab": {
          "base_uri": "https://localhost:8080/"
        },
        "id": "wK0L--ZGtz2y",
        "outputId": "d5bcc714-870f-4cd3-fd66-b005192a62de"
      },
      "execution_count": null,
      "outputs": [
        {
          "output_type": "stream",
          "name": "stdout",
          "text": [
            "15\n",
            "12\n"
          ]
        }
      ]
    },
    {
      "cell_type": "code",
      "source": [
        "juice = 'Orange juice'\n",
        "print(juice)\n"
      ],
      "metadata": {
        "id": "YxLcVxUQydYV"
      },
      "execution_count": null,
      "outputs": []
    },
    {
      "cell_type": "code",
      "source": [
        "# def sumnum(): # ---> parameters\n",
        "#   pass\n",
        "\n",
        "def fruit_blender(fruit):\n",
        "  print(fruit)\n",
        "\n",
        "lemon = fruit_blender('Lemon')\n",
        "\n",
        "lemonade =  lemon + 'ade'\n",
        "lemonade\n"
      ],
      "metadata": {
        "colab": {
          "base_uri": "https://localhost:8080/",
          "height": 235
        },
        "id": "zbeUBMHbucWL",
        "outputId": "7d653e88-4e9e-4ce8-e22b-a9eb5713fcfa"
      },
      "execution_count": null,
      "outputs": [
        {
          "output_type": "stream",
          "name": "stdout",
          "text": [
            "Lemon\n"
          ]
        },
        {
          "output_type": "error",
          "ename": "TypeError",
          "evalue": "ignored",
          "traceback": [
            "\u001b[0;31m---------------------------------------------------------------------------\u001b[0m",
            "\u001b[0;31mTypeError\u001b[0m                                 Traceback (most recent call last)",
            "\u001b[0;32m<ipython-input-12-96a88cb19eb6>\u001b[0m in \u001b[0;36m<module>\u001b[0;34m\u001b[0m\n\u001b[1;32m      7\u001b[0m \u001b[0mlemon\u001b[0m \u001b[0;34m=\u001b[0m \u001b[0mfruit_blender\u001b[0m\u001b[0;34m(\u001b[0m\u001b[0;34m'Lemon'\u001b[0m\u001b[0;34m)\u001b[0m\u001b[0;34m\u001b[0m\u001b[0;34m\u001b[0m\u001b[0m\n\u001b[1;32m      8\u001b[0m \u001b[0;34m\u001b[0m\u001b[0m\n\u001b[0;32m----> 9\u001b[0;31m \u001b[0mlemonade\u001b[0m \u001b[0;34m=\u001b[0m  \u001b[0mlemon\u001b[0m \u001b[0;34m+\u001b[0m \u001b[0;34m'ade'\u001b[0m\u001b[0;34m\u001b[0m\u001b[0;34m\u001b[0m\u001b[0m\n\u001b[0m\u001b[1;32m     10\u001b[0m \u001b[0mlemonade\u001b[0m\u001b[0;34m\u001b[0m\u001b[0;34m\u001b[0m\u001b[0m\n",
            "\u001b[0;31mTypeError\u001b[0m: unsupported operand type(s) for +: 'NoneType' and 'str'"
          ]
        }
      ]
    },
    {
      "cell_type": "code",
      "source": [
        "def sumnum(x, y):\n",
        "  sum = x + y\n",
        "  return sum\n",
        "\n",
        "result = sumnum(5, 10)\n",
        "result / 3\n",
        "# result = 15\n",
        "# result / 3 --> 5"
      ],
      "metadata": {
        "colab": {
          "base_uri": "https://localhost:8080/"
        },
        "id": "koiGQyJsxRVz",
        "outputId": "9413e6c9-e604-4a48-fb4f-d4288a36ab39"
      },
      "execution_count": null,
      "outputs": [
        {
          "output_type": "execute_result",
          "data": {
            "text/plain": [
              "5.0"
            ]
          },
          "metadata": {},
          "execution_count": 2
        }
      ]
    },
    {
      "cell_type": "code",
      "source": [
        "import typing\n",
        "def get_first_letter(word: str):\n",
        "  '''This function prints the first letter of the word.'''\n",
        "  #first_letter = word[0]\n",
        "  #last_letter = word[-1]\n",
        "  for i in word:\n",
        "    print(i)\n",
        "  #print(last_letter)\n",
        "\n",
        "get_first_letter()\n",
        "#print()    \n",
        "  \n"
      ],
      "metadata": {
        "id": "5XPFC_6o07Ix",
        "colab": {
          "base_uri": "https://localhost:8080/"
        },
        "outputId": "080d7354-cbbc-4eab-f71b-219fb7295ccb"
      },
      "execution_count": null,
      "outputs": [
        {
          "output_type": "execute_result",
          "data": {
            "text/plain": [
              "<function __main__.get_first_letter(word)>"
            ]
          },
          "metadata": {},
          "execution_count": 11
        }
      ]
    },
    {
      "cell_type": "code",
      "source": [
        "word = 'victoria'\n",
        "word[0]\n"
      ],
      "metadata": {
        "colab": {
          "base_uri": "https://localhost:8080/",
          "height": 35
        },
        "id": "8DWX-V2E4VF1",
        "outputId": "764230b7-820b-4446-b4bf-4519401f9507"
      },
      "execution_count": null,
      "outputs": [
        {
          "output_type": "execute_result",
          "data": {
            "text/plain": [
              "'v'"
            ],
            "application/vnd.google.colaboratory.intrinsic+json": {
              "type": "string"
            }
          },
          "metadata": {},
          "execution_count": 3
        }
      ]
    }
  ]
}