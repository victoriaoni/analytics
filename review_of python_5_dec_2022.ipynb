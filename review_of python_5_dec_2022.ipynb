{
  "cells": [
    {
      "cell_type": "markdown",
      "metadata": {
        "id": "view-in-github",
        "colab_type": "text"
      },
      "source": [
        "<a href=\"https://colab.research.google.com/github/victoriaoni/analytics/blob/main/review_of%20python_5_dec_2022.ipynb\" target=\"_parent\"><img src=\"https://colab.research.google.com/assets/colab-badge.svg\" alt=\"Open In Colab\"/></a>"
      ]
    },
    {
      "cell_type": "markdown",
      "metadata": {
        "id": "K5q9VqcuQcGI"
      },
      "source": [
        "- int\n",
        "- float\n",
        "- strings\n",
        "- list\n",
        "- tuple\n",
        "- dictionary\n",
        "- sets\n",
        "- conditionals\n",
        "- loops\n",
        "- functions"
      ]
    },
    {
      "cell_type": "code",
      "execution_count": null,
      "metadata": {
        "colab": {
          "base_uri": "https://localhost:8080/"
        },
        "id": "oYGo_t6zDNlI",
        "outputId": "59d7ca5e-4a82-4075-876a-026ddbed9921"
      },
      "outputs": [
        {
          "name": "stdout",
          "output_type": "stream",
          "text": [
            "hi\n"
          ]
        }
      ],
      "source": [
        "print('hi')"
      ]
    },
    {
      "cell_type": "code",
      "execution_count": null,
      "metadata": {
        "colab": {
          "base_uri": "https://localhost:8080/"
        },
        "id": "X1FGFFuDRZt0",
        "outputId": "27ce8450-4440-4cfe-c64a-ce68d12e16fc"
      },
      "outputs": [
        {
          "name": "stdout",
          "output_type": "stream",
          "text": [
            "Enter a number: 2\n"
          ]
        },
        {
          "data": {
            "text/plain": [
              "4"
            ]
          },
          "execution_count": 8,
          "metadata": {},
          "output_type": "execute_result"
        }
      ],
      "source": [
        "# if the input is a string, it is necessary to convert to lowercase\n",
        "# if input is an integer/float, then convert to int/float\n",
        "#name = input('What is your name? ')\n",
        "\n",
        "#type(name)\n",
        "\n",
        "num = input('Enter a number: ')\n",
        "result = int(num) * 2\n",
        "type(num)\n",
        "result"
      ]
    },
    {
      "cell_type": "code",
      "execution_count": null,
      "metadata": {
        "colab": {
          "base_uri": "https://localhost:8080/"
        },
        "id": "SSl7BZQ1RfG5",
        "outputId": "56342bcc-ee00-45cc-ef7f-ac120ce9b0a2"
      },
      "outputs": [
        {
          "name": "stdout",
          "output_type": "stream",
          "text": [
            "it is even\n"
          ]
        }
      ],
      "source": [
        "# modulo division (%)\n",
        "num = 6\n",
        "if num % 2 == 0:\n",
        "  print('it is even')\n",
        "else:\n",
        "  print('it is odd')\n"
      ]
    },
    {
      "cell_type": "code",
      "execution_count": null,
      "metadata": {
        "colab": {
          "base_uri": "https://localhost:8080/"
        },
        "id": "4AaZPwq2TSja",
        "outputId": "6b4a8491-364d-47c1-b02f-205d6f86e33e"
      },
      "outputs": [
        {
          "data": {
            "text/plain": [
              "False"
            ]
          },
          "execution_count": 14,
          "metadata": {},
          "output_type": "execute_result"
        }
      ],
      "source": [
        "# strings --> sequence of 0 or more characters. they are immutable, denoted by single, double or tripple quotation marks\n",
        "mystr = ''\n",
        "#type(mystr)\n",
        "#len(mystr)\n",
        "#bool(mystr)"
      ]
    },
    {
      "cell_type": "code",
      "execution_count": null,
      "metadata": {
        "colab": {
          "base_uri": "https://localhost:8080/",
          "height": 35
        },
        "id": "d-12KjtEUxBp",
        "outputId": "c6b126d5-9c49-4cfc-98e5-8176b7d49ef1"
      },
      "outputs": [
        {
          "data": {
            "application/vnd.google.colaboratory.intrinsic+json": {
              "type": "string"
            },
            "text/plain": [
              "'Hello world'"
            ]
          },
          "execution_count": 16,
          "metadata": {},
          "output_type": "execute_result"
        }
      ],
      "source": [
        "# matthematical ops\n",
        "# addition of strings --> concatenation\n",
        "mess1 = 'Hello'\n",
        "mess2 = 'world'\n",
        "mess1 + ' ' + mess2"
      ]
    },
    {
      "cell_type": "code",
      "execution_count": null,
      "metadata": {
        "colab": {
          "base_uri": "https://localhost:8080/"
        },
        "id": "ZVsCuGORUc94",
        "outputId": "1dc26bed-12e9-43b0-e5d4-e57f72cf00a0"
      },
      "outputs": [
        {
          "name": "stdout",
          "output_type": "stream",
          "text": [
            "what is your name? bola\n",
            "how old are you? 18\n",
            "your name isbola,you are18years old\n"
          ]
        }
      ],
      "source": [
        "# error concatenating str and int\n",
        "name = input('what is your name? ')\n",
        "age = int(input('how old are you? '))\n",
        "print('your name is' + name + ',' + 'you are' + str(age) + 'years old')"
      ]
    },
    {
      "cell_type": "code",
      "execution_count": null,
      "metadata": {
        "colab": {
          "base_uri": "https://localhost:8080/",
          "height": 35
        },
        "id": "gZ3mgcVIV4_M",
        "outputId": "3274299b-fc28-4a5d-d27d-100a850d9382"
      },
      "outputs": [
        {
          "data": {
            "application/vnd.google.colaboratory.intrinsic+json": {
              "type": "string"
            },
            "text/plain": [
              "'olleh'"
            ]
          },
          "execution_count": 25,
          "metadata": {},
          "output_type": "execute_result"
        }
      ],
      "source": [
        "# access items in a string\n",
        "# 1. accessing single items (indexing), 2. accessing multiple items (slicing)\n",
        "\n",
        "# indexing\n",
        "mystr = 'hello'\n",
        "mystr[0]\n",
        "mystr[-1]\n",
        "\n",
        "# slicing [start:stop:step]\n",
        "mystr[0:3]\n",
        "mystr[0:5:2]\n",
        "mystr[::-1]"
      ]
    },
    {
      "cell_type": "code",
      "execution_count": null,
      "metadata": {
        "colab": {
          "base_uri": "https://localhost:8080/"
        },
        "id": "QN6a8khiW-Ht",
        "outputId": "50e4ceb8-70d9-4076-f6da-74c647e70194"
      },
      "outputs": [
        {
          "name": "stdout",
          "output_type": "stream",
          "text": [
            " is palindrome\n"
          ]
        }
      ],
      "source": [
        "# check pallindrome 'madam', 'civic'\n",
        "word = 'civic'\n",
        "if word == word[::-1]:\n",
        "  print(' is palindrome')\n",
        "\n",
        "else:\n",
        "  print('not a palindrome')"
      ]
    },
    {
      "cell_type": "code",
      "execution_count": null,
      "metadata": {
        "colab": {
          "base_uri": "https://localhost:8080/"
        },
        "id": "cy5e9t-kYYiO",
        "outputId": "567418ce-7e4f-49b6-f7f4-87f656882ec4"
      },
      "outputs": [
        {
          "name": "stdout",
          "output_type": "stream",
          "text": [
            "my name is Bola. I am 18 years old\n",
            "This is the result of multiplying 2 by 10: 20\n"
          ]
        }
      ],
      "source": [
        "# f-string --> used to inject expressions in a string\n",
        "\n",
        "name = 'Bola'\n",
        "age = 18\n",
        "print(f'my name is {name}. I am {age} years old')\n",
        "\n",
        "print(f'This is the result of multiplying 2 by 10: {2 * 10}')\n"
      ]
    },
    {
      "cell_type": "code",
      "execution_count": null,
      "metadata": {
        "colab": {
          "base_uri": "https://localhost:8080/",
          "height": 218
        },
        "id": "O41pQcFYZTZ9",
        "outputId": "c83a4af4-3e75-4fe2-cc27-c792d1718b49"
      },
      "outputs": [
        {
          "ename": "TypeError",
          "evalue": "ignored",
          "output_type": "error",
          "traceback": [
            "\u001b[0;31m---------------------------------------------------------------------------\u001b[0m",
            "\u001b[0;31mTypeError\u001b[0m                                 Traceback (most recent call last)",
            "\u001b[0;32m<ipython-input-32-6f54ecd1b9ea>\u001b[0m in \u001b[0;36m<module>\u001b[0;34m\u001b[0m\n\u001b[1;32m      1\u001b[0m \u001b[0;31m# string immutability\u001b[0m\u001b[0;34m\u001b[0m\u001b[0;34m\u001b[0m\u001b[0;34m\u001b[0m\u001b[0m\n\u001b[1;32m      2\u001b[0m \u001b[0mmystr\u001b[0m \u001b[0;34m=\u001b[0m \u001b[0;34m'Python'\u001b[0m\u001b[0;34m\u001b[0m\u001b[0;34m\u001b[0m\u001b[0m\n\u001b[0;32m----> 3\u001b[0;31m \u001b[0mmystr\u001b[0m\u001b[0;34m[\u001b[0m\u001b[0;36m0\u001b[0m\u001b[0;34m]\u001b[0m \u001b[0;34m=\u001b[0m \u001b[0;34m'C'\u001b[0m\u001b[0;34m\u001b[0m\u001b[0;34m\u001b[0m\u001b[0m\n\u001b[0m\u001b[1;32m      4\u001b[0m \u001b[0mmystr\u001b[0m\u001b[0;34m\u001b[0m\u001b[0;34m\u001b[0m\u001b[0m\n",
            "\u001b[0;31mTypeError\u001b[0m: 'str' object does not support item assignment"
          ]
        }
      ],
      "source": [
        "# string immutability\n",
        "mystr = 'Python'\n",
        "mystr[0] = 'C'\n",
        "mystr\n"
      ]
    },
    {
      "cell_type": "code",
      "execution_count": null,
      "metadata": {
        "colab": {
          "base_uri": "https://localhost:8080/"
        },
        "id": "bIlX3G43aqpg",
        "outputId": "bf3cbae8-a424-416a-862c-6d78684d98bc"
      },
      "outputs": [
        {
          "name": "stdout",
          "output_type": "stream",
          "text": [
            "Python\n",
            "Cython\n"
          ]
        }
      ],
      "source": [
        "newstr = 'C' + mystr[1:] \n",
        "print(mystr)\n",
        "print(newstr)"
      ]
    },
    {
      "cell_type": "code",
      "execution_count": null,
      "metadata": {
        "colab": {
          "base_uri": "https://localhost:8080/"
        },
        "id": "xZwPXyHsbBPg",
        "outputId": "c06056e7-23d1-4e14-d291-a8f1d255c368"
      },
      "outputs": [
        {
          "name": "stdout",
          "output_type": "stream",
          "text": [
            "python\n",
            "PYTHON\n",
            "Python\n"
          ]
        }
      ],
      "source": [
        "# string methods -> formating\n",
        "mystr = 'Python'\n",
        "print(mystr.lower())\n",
        "print(mystr.upper())\n",
        "print(mystr.capitalize())"
      ]
    },
    {
      "cell_type": "code",
      "execution_count": null,
      "metadata": {
        "colab": {
          "base_uri": "https://localhost:8080/"
        },
        "id": "AARBN1FMbgxF",
        "outputId": "2656ad8d-3540-4d7e-a648-c1918641df43"
      },
      "outputs": [
        {
          "data": {
            "text/plain": [
              "True"
            ]
          },
          "execution_count": 41,
          "metadata": {},
          "output_type": "execute_result"
        }
      ],
      "source": [
        "mystr.isalpha()\n",
        "newstr = '1234'\n",
        "newstr.isalpha()\n",
        "newstr.isnumeric()"
      ]
    },
    {
      "cell_type": "code",
      "execution_count": null,
      "metadata": {
        "colab": {
          "background_save": true
        },
        "id": "QZMjg0TIcZlg",
        "outputId": "b7d842a2-7b15-4a9c-b79f-2faee8809b56"
      },
      "outputs": [
        {
          "data": {
            "text/plain": [
              "5"
            ]
          },
          "execution_count": 42,
          "metadata": {},
          "output_type": "execute_result"
        }
      ],
      "source": [
        "num1 = '5'\n",
        "num2 = 'five'\n",
        "int(num1)"
      ]
    },
    {
      "cell_type": "code",
      "execution_count": 13,
      "metadata": {
        "id": "Sga1jVqsc42j",
        "colab": {
          "base_uri": "https://localhost:8080/"
        },
        "outputId": "69ce0d85-65d5-4004-dcdc-c2d500dbdff7"
      },
      "outputs": [
        {
          "output_type": "stream",
          "name": "stdout",
          "text": [
            "[1, 2, 5, 8, 4, 6, 9, 3, 6, 'Hello']\n"
          ]
        }
      ],
      "source": [
        "mylist = [1,2,5,8,4,6,9,3,6]\n",
        "mylist[2]\n",
        "mylist[-1]\n",
        "mylist[::2]\n",
        "len(mylist)\n",
        "mylist[0:9:2]\n",
        "mylist[0:9:-1]\n",
        "mylist[::-2]\n",
        "\n",
        "mylist.append(\"Hello\")\n",
        "print(mylist)"
      ]
    },
    {
      "cell_type": "code",
      "source": [
        "mylist.pop(9)"
      ],
      "metadata": {
        "colab": {
          "base_uri": "https://localhost:8080/",
          "height": 35
        },
        "id": "LIaE2egEe-P_",
        "outputId": "7afc12e1-97ee-4073-af5b-c8d0e446bc06"
      },
      "execution_count": 14,
      "outputs": [
        {
          "output_type": "execute_result",
          "data": {
            "text/plain": [
              "'Hello'"
            ],
            "application/vnd.google.colaboratory.intrinsic+json": {
              "type": "string"
            }
          },
          "metadata": {},
          "execution_count": 14
        }
      ]
    },
    {
      "cell_type": "code",
      "source": [
        "a_list = ['a','b','c','d']\n",
        "a_list.pop(2)"
      ],
      "metadata": {
        "colab": {
          "base_uri": "https://localhost:8080/",
          "height": 35
        },
        "id": "vz422gF4j8UJ",
        "outputId": "3a58de42-f607-4253-da85-4e5006f364fa"
      },
      "execution_count": 20,
      "outputs": [
        {
          "output_type": "execute_result",
          "data": {
            "text/plain": [
              "'c'"
            ],
            "application/vnd.google.colaboratory.intrinsic+json": {
              "type": "string"
            }
          },
          "metadata": {},
          "execution_count": 20
        }
      ]
    },
    {
      "cell_type": "code",
      "source": [
        "a_list.index('d')"
      ],
      "metadata": {
        "colab": {
          "base_uri": "https://localhost:8080/"
        },
        "id": "5KUahY8PkdEG",
        "outputId": "f21f40bf-64a3-4a8d-b091-b6e5e6e63836"
      },
      "execution_count": 17,
      "outputs": [
        {
          "output_type": "execute_result",
          "data": {
            "text/plain": [
              "2"
            ]
          },
          "metadata": {},
          "execution_count": 17
        }
      ]
    },
    {
      "cell_type": "code",
      "source": [
        "del a_list"
      ],
      "metadata": {
        "id": "cKQKkAxFlCbA"
      },
      "execution_count": 18,
      "outputs": []
    },
    {
      "cell_type": "code",
      "source": [
        "a_list"
      ],
      "metadata": {
        "colab": {
          "base_uri": "https://localhost:8080/"
        },
        "id": "N0dchgEJllfh",
        "outputId": "66219bbe-7ea3-4e19-f6d2-293b53a62c1e"
      },
      "execution_count": 21,
      "outputs": [
        {
          "output_type": "execute_result",
          "data": {
            "text/plain": [
              "['a', 'b', 'd']"
            ]
          },
          "metadata": {},
          "execution_count": 21
        }
      ]
    },
    {
      "cell_type": "code",
      "source": [
        "a_list.clear()"
      ],
      "metadata": {
        "id": "Fnk9ZND4lnn7"
      },
      "execution_count": 23,
      "outputs": []
    },
    {
      "cell_type": "code",
      "source": [
        "a_list"
      ],
      "metadata": {
        "colab": {
          "base_uri": "https://localhost:8080/"
        },
        "id": "NkRshNxVl9aV",
        "outputId": "692165c7-c413-45a7-c4a7-b9633f45e44e"
      },
      "execution_count": 24,
      "outputs": [
        {
          "output_type": "execute_result",
          "data": {
            "text/plain": [
              "[]"
            ]
          },
          "metadata": {},
          "execution_count": 24
        }
      ]
    },
    {
      "cell_type": "code",
      "source": [],
      "metadata": {
        "id": "EC8907TFmGS9"
      },
      "execution_count": null,
      "outputs": []
    }
  ],
  "metadata": {
    "colab": {
      "provenance": [],
      "include_colab_link": true
    },
    "kernelspec": {
      "display_name": "Python 3",
      "name": "python3"
    },
    "language_info": {
      "name": "python"
    }
  },
  "nbformat": 4,
  "nbformat_minor": 0
}